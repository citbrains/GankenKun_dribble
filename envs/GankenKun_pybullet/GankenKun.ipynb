{
  "nbformat": 4,
  "nbformat_minor": 0,
  "metadata": {
    "colab": {
      "name": "GankenKun.ipynb",
      "provenance": [],
      "collapsed_sections": [],
      "mount_file_id": "1N14EQQQPXsDvagGHN7Aw26GeYP6iAH_J",
      "authorship_tag": "ABX9TyPKNkfclZCo87TLb3O8+IWJ",
      "include_colab_link": true
    },
    "kernelspec": {
      "name": "python3",
      "display_name": "Python 3"
    },
    "accelerator": "GPU"
  },
  "cells": [
    {
      "cell_type": "markdown",
      "metadata": {
        "id": "view-in-github",
        "colab_type": "text"
      },
      "source": [
        "<a href=\"https://colab.research.google.com/github/citbrains/GankenKun_pybullet/blob/develop/GankenKun.ipynb\" target=\"_parent\"><img src=\"https://colab.research.google.com/assets/colab-badge.svg\" alt=\"Open In Colab\"/></a>"
      ]
    },
    {
      "cell_type": "code",
      "metadata": {
        "colab_type": "code",
        "id": "iQvkEy9uLWOX",
        "colab": {}
      },
      "source": [
        "!pip3 install pybullet\n",
        "!pip install slycot\n",
        "!pip install control"
      ],
      "execution_count": 0,
      "outputs": []
    },
    {
      "cell_type": "code",
      "metadata": {
        "id": "U0lQwKfqfzRF",
        "colab_type": "code",
        "outputId": "e473c931-e9e7-44ab-b3eb-7bddf09ac402",
        "colab": {
          "base_uri": "https://localhost:8080/",
          "height": 173
        }
      },
      "source": [
        "!python ./GankenKun.py"
      ],
      "execution_count": 17,
      "outputs": [
        {
          "output_type": "stream",
          "text": [
            "pybullet build time: Apr 30 2020 03:21:43\n",
            "b3Warning[examples/Importers/ImportURDFDemo/BulletUrdfImporter.cpp,126]:\n",
            "No inertial data for link, using mass=1, localinertiadiagonal = 1,1,1, identity local inertial frameb3Warning[examples/Importers/ImportURDFDemo/BulletUrdfImporter.cpp,126]:\n",
            "base_linkGoal: (-0.19868258794024596, -0.34219733228036864, 0.21986911857078784)\n",
            "Goal: (-0.491586745331974, -0.1470138009061258, -0.35599559000360215)\n",
            "Goal: (-0.48592745787532243, -0.1680625088219413, 0.20843728185035304)\n",
            "Goal: (-0.319705202794209, 0.37339126362817765, 0.2883456040647451)\n",
            "Goal: (0.4350584111581226, -0.2464553037773327, 0.011323779582488647)\n"
          ],
          "name": "stdout"
        }
      ]
    }
  ]
}